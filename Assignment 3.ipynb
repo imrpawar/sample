{
 "cells": [
  {
   "cell_type": "code",
   "execution_count": null,
   "id": "c2e28bc8",
   "metadata": {},
   "outputs": [],
   "source": [
    "n=int(input(\"Enter value in between 1 to 100: \"))\n",
    "if(n<20):\n",
    "    if(n%2!=0):\n",
    "        print(\"weird\")        \n",
    "    elif(n>=2 and n<=5):\n",
    "        print(\"not weird\")\n",
    "    else:\n",
    "        print(\"weird\")\n",
    "else:\n",
    "    print(\"not weird\")"
   ]
  },
  {
   "cell_type": "code",
   "execution_count": null,
   "id": "ce0597d0",
   "metadata": {},
   "outputs": [],
   "source": [
    "n=int(input())\n",
    "if(n>=1 and n<=100):\n",
    "    if(n<20):\n",
    "        if(n%2!=0):\n",
    "            print(\"Weird\")        \n",
    "        elif(n>=2 and n<=5):\n",
    "            print(\"Not Weird\")\n",
    "        else:\n",
    "            print(\"Weird\")\n",
    "    else:\n",
    "        print(\"Not Weird\")\n",
    "else:\n",
    "    print(\"please enter value in between 1 to 100\")"
   ]
  },
  {
   "cell_type": "code",
   "execution_count": 21,
   "id": "23682662",
   "metadata": {},
   "outputs": [
    {
     "name": "stdout",
     "output_type": "stream",
     "text": [
      "121\n",
      "please enter value in between 1 to 100\n"
     ]
    }
   ],
   "source": [
    "if __name__ == '__main__':\n",
    "    n=int(input())\n",
    "    if(n>=1 and n<=100):\n",
    "        if(n<=20):\n",
    "            if(n%2!=0):\n",
    "                print(\"Weird\")        \n",
    "            elif(n>=2 and n<=5):\n",
    "                print(\"Not Weird\")\n",
    "            else:\n",
    "                print(\"Weird\")\n",
    "        else:\n",
    "            print(\"Not Weird\")\n",
    "    else:\n",
    "        print(\"please enter value in between 1 to 100\")"
   ]
  },
  {
   "cell_type": "code",
   "execution_count": 5,
   "id": "c95bc66f",
   "metadata": {},
   "outputs": [
    {
     "name": "stdout",
     "output_type": "stream",
     "text": [
      "16\n",
      "Not Weird\n"
     ]
    }
   ],
   "source": [
    "if __name__ == '__main__':\n",
    "    n=int(input())\n",
    "if(n>=1 and n<=100):\n",
    "    if(n%2!=0):\n",
    "        if(n<20):\n",
    "            print(\"Weird\")        \n",
    "        elif(n>=2 and n<=5):\n",
    "            print(\"Not Weird\")\n",
    "        else:\n",
    "            print(\"Weird\")\n",
    "    else:\n",
    "        print(\"Not Weird\")"
   ]
  },
  {
   "cell_type": "code",
   "execution_count": 35,
   "id": "983614ef",
   "metadata": {},
   "outputs": [
    {
     "name": "stdout",
     "output_type": "stream",
     "text": [
      "121\n",
      "please enter value in between 1 to 100\n"
     ]
    }
   ],
   "source": [
    "if __name__ == '__main__':\n",
    "    n=int(input())\n",
    "    if(n>=1 and n<=100):\n",
    "        if(n%2==0):                \n",
    "            if(n>=2 and n<=5) or (n>20):\n",
    "                print(\"Not Weird\")\n",
    "            elif(n>=6 and n<=20):\n",
    "                print(\"Weird\")\n",
    "        else:\n",
    "            print(\"Weird\")\n",
    "    else:\n",
    "        print(\"please enter value in between 1 to 100\")"
   ]
  },
  {
   "cell_type": "code",
   "execution_count": null,
   "id": "2c454548",
   "metadata": {},
   "outputs": [],
   "source": []
  },
  {
   "cell_type": "code",
   "execution_count": null,
   "id": "6e615c08",
   "metadata": {},
   "outputs": [],
   "source": []
  }
 ],
 "metadata": {
  "kernelspec": {
   "display_name": "Python 3 (ipykernel)",
   "language": "python",
   "name": "python3"
  },
  "language_info": {
   "codemirror_mode": {
    "name": "ipython",
    "version": 3
   },
   "file_extension": ".py",
   "mimetype": "text/x-python",
   "name": "python",
   "nbconvert_exporter": "python",
   "pygments_lexer": "ipython3",
   "version": "3.9.7"
  }
 },
 "nbformat": 4,
 "nbformat_minor": 5
}
